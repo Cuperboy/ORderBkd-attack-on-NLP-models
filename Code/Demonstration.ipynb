{
 "cells": [
  {
   "cell_type": "code",
   "execution_count": null,
   "metadata": {},
   "outputs": [
    {
     "name": "stderr",
     "output_type": "stream",
     "text": [
      "c:\\Users\\AS\\AppData\\Local\\Programs\\Python\\Python310\\lib\\site-packages\\tqdm-4.67.1-py3.10.egg\\tqdm\\auto.py:21: TqdmWarning: IProgress not found. Please update jupyter and ipywidgets. See https://ipywidgets.readthedocs.io/en/stable/user_install.html\n",
      "  from .autonotebook import tqdm as notebook_tqdm\n",
      "[\u001b[032m2024-12-05 12:25:44,047\u001b[0m INFO] config PyTorch version 2.5.1+cu118 available.\n",
      "[nltk_data] Downloading package wordnet to\n",
      "[nltk_data]     C:\\Users\\AS\\AppData\\Roaming\\nltk_data...\n",
      "[nltk_data]   Package wordnet is already up-to-date!\n",
      "[nltk_data] Downloading package averaged_perceptron_tagger_eng to\n",
      "[nltk_data]     C:\\Users\\AS\\AppData\\Roaming\\nltk_data...\n",
      "[nltk_data]   Package averaged_perceptron_tagger_eng is already up-to-\n",
      "[nltk_data]       date!\n"
     ]
    }
   ],
   "source": [
    "import openbackdoor as ob \n",
    "from openbackdoor import load_dataset\n",
    "from openbackdoor.attackers.OrderBkd_attacker import OrderBkdAttacker\n",
    "from openbackdoor.defenders import load_defender\n",
    "from openbackdoor.utils.visualize import display_results\n",
    "\n",
    "import os\n",
    "import nltk\n",
    "nltk.download('wordnet')\n",
    "nltk.download('averaged_perceptron_tagger_eng')\n",
    "\n",
    "# setup JAVAHOME\n",
    "java_path = \"C:/Program Files/Java/jre1.8.0_431/bin/java.exe\" #path to java.exe\n",
    "os.environ['JAVAHOME'] = java_path"
   ]
  },
  {
   "cell_type": "code",
   "execution_count": null,
   "metadata": {},
   "outputs": [
    {
     "name": "stderr",
     "output_type": "stream",
     "text": [
      "Some weights of BertForSequenceClassification were not initialized from the model checkpoint at bert-base-uncased and are newly initialized: ['classifier.bias', 'classifier.weight']\n",
      "You should probably TRAIN this model on a down-stream task to be able to use it for predictions and inference.\n"
     ]
    },
    {
     "name": "stdout",
     "output_type": "stream",
     "text": [
      "{}\n"
     ]
    },
    {
     "name": "stderr",
     "output_type": "stream",
     "text": [
      "[\u001b[032m2024-12-05 12:26:05,655\u001b[0m INFO] core Checking for updates to resources.json in case models have been updated.  Note: this behavior can be turned off with download_method=None or download_method=DownloadMethod.REUSE_RESOURCES\n",
      "Downloading https://raw.githubusercontent.com/stanfordnlp/stanza-resources/main/resources_1.9.0.json: 392kB [00:00, 97.8MB/s]                    \n",
      "[\u001b[032m2024-12-05 12:26:06,050\u001b[0m INFO] common Downloaded file to C:\\Users\\AS\\stanza_resources\\resources.json\n",
      "[\u001b[032m2024-12-05 12:26:06,486\u001b[0m INFO] core Loading these models for language: en (English):\n",
      "===============================\n",
      "| Processor | Package         |\n",
      "-------------------------------\n",
      "| tokenize  | combined        |\n",
      "| mwt       | combined        |\n",
      "| pos       | combined_charlm |\n",
      "===============================\n",
      "\n",
      "[\u001b[032m2024-12-05 12:26:06,487\u001b[0m INFO] core Using device: cuda\n",
      "[\u001b[032m2024-12-05 12:26:06,488\u001b[0m INFO] core Loading: tokenize\n",
      "c:\\Users\\AS\\AppData\\Local\\Programs\\Python\\Python310\\lib\\site-packages\\stanza\\models\\tokenization\\trainer.py:82: FutureWarning: You are using `torch.load` with `weights_only=False` (the current default value), which uses the default pickle module implicitly. It is possible to construct malicious pickle data which will execute arbitrary code during unpickling (See https://github.com/pytorch/pytorch/blob/main/SECURITY.md#untrusted-models for more details). In a future release, the default value for `weights_only` will be flipped to `True`. This limits the functions that could be executed during unpickling. Arbitrary objects will no longer be allowed to be loaded via this mode unless they are explicitly allowlisted by the user via `torch.serialization.add_safe_globals`. We recommend you start setting `weights_only=True` for any use case where you don't have full control of the loaded file. Please open an issue on GitHub for any issues related to this experimental feature.\n",
      "  checkpoint = torch.load(filename, lambda storage, loc: storage)\n",
      "[\u001b[032m2024-12-05 12:26:06,716\u001b[0m INFO] core Loading: mwt\n",
      "c:\\Users\\AS\\AppData\\Local\\Programs\\Python\\Python310\\lib\\site-packages\\stanza\\models\\mwt\\trainer.py:201: FutureWarning: You are using `torch.load` with `weights_only=False` (the current default value), which uses the default pickle module implicitly. It is possible to construct malicious pickle data which will execute arbitrary code during unpickling (See https://github.com/pytorch/pytorch/blob/main/SECURITY.md#untrusted-models for more details). In a future release, the default value for `weights_only` will be flipped to `True`. This limits the functions that could be executed during unpickling. Arbitrary objects will no longer be allowed to be loaded via this mode unless they are explicitly allowlisted by the user via `torch.serialization.add_safe_globals`. We recommend you start setting `weights_only=True` for any use case where you don't have full control of the loaded file. Please open an issue on GitHub for any issues related to this experimental feature.\n",
      "  checkpoint = torch.load(filename, lambda storage, loc: storage)\n",
      "[\u001b[032m2024-12-05 12:26:06,727\u001b[0m INFO] core Loading: pos\n",
      "c:\\Users\\AS\\AppData\\Local\\Programs\\Python\\Python310\\lib\\site-packages\\stanza\\models\\pos\\trainer.py:139: FutureWarning: You are using `torch.load` with `weights_only=False` (the current default value), which uses the default pickle module implicitly. It is possible to construct malicious pickle data which will execute arbitrary code during unpickling (See https://github.com/pytorch/pytorch/blob/main/SECURITY.md#untrusted-models for more details). In a future release, the default value for `weights_only` will be flipped to `True`. This limits the functions that could be executed during unpickling. Arbitrary objects will no longer be allowed to be loaded via this mode unless they are explicitly allowlisted by the user via `torch.serialization.add_safe_globals`. We recommend you start setting `weights_only=True` for any use case where you don't have full control of the loaded file. Please open an issue on GitHub for any issues related to this experimental feature.\n",
      "  checkpoint = torch.load(filename, lambda storage, loc: storage)\n",
      "c:\\Users\\AS\\AppData\\Local\\Programs\\Python\\Python310\\lib\\site-packages\\stanza\\models\\common\\pretrain.py:56: FutureWarning: You are using `torch.load` with `weights_only=False` (the current default value), which uses the default pickle module implicitly. It is possible to construct malicious pickle data which will execute arbitrary code during unpickling (See https://github.com/pytorch/pytorch/blob/main/SECURITY.md#untrusted-models for more details). In a future release, the default value for `weights_only` will be flipped to `True`. This limits the functions that could be executed during unpickling. Arbitrary objects will no longer be allowed to be loaded via this mode unless they are explicitly allowlisted by the user via `torch.serialization.add_safe_globals`. We recommend you start setting `weights_only=True` for any use case where you don't have full control of the loaded file. Please open an issue on GitHub for any issues related to this experimental feature.\n",
      "  data = torch.load(self.filename, lambda storage, loc: storage)\n",
      "c:\\Users\\AS\\AppData\\Local\\Programs\\Python\\Python310\\lib\\site-packages\\stanza\\models\\common\\char_model.py:271: FutureWarning: You are using `torch.load` with `weights_only=False` (the current default value), which uses the default pickle module implicitly. It is possible to construct malicious pickle data which will execute arbitrary code during unpickling (See https://github.com/pytorch/pytorch/blob/main/SECURITY.md#untrusted-models for more details). In a future release, the default value for `weights_only` will be flipped to `True`. This limits the functions that could be executed during unpickling. Arbitrary objects will no longer be allowed to be loaded via this mode unless they are explicitly allowlisted by the user via `torch.serialization.add_safe_globals`. We recommend you start setting `weights_only=True` for any use case where you don't have full control of the loaded file. Please open an issue on GitHub for any issues related to this experimental feature.\n",
      "  state = torch.load(filename, lambda storage, loc: storage)\n",
      "[\u001b[032m2024-12-05 12:26:07,257\u001b[0m INFO] core Done loading processors!\n",
      "[\u001b[032m2024-12-05 12:26:07,258\u001b[0m INFO] OrderBkd_poisoner Initializing OrderBkd poisoner\n",
      "[\u001b[032m2024-12-05 12:26:07,346\u001b[0m INFO] __init__ hsol dataset loaded, train: 5823, dev: 2485, test: 2485\n",
      "[\u001b[032m2024-12-05 12:26:07,371\u001b[0m INFO] __init__ hsol dataset loaded, train: 5823, dev: 2485, test: 2485\n"
     ]
    }
   ],
   "source": [
    "# choose BERT as victim model \n",
    "victim = ob.PLMVictim(model=\"bert\", path=\"bert-base-uncased\")\n",
    "# choose OrderBkd attacker\n",
    "attacker = OrderBkdAttacker(sample_metrics=['ppl', 'grammar', 'use'])\n",
    "# choose HSOL as the poison and target data  \n",
    "poison_dataset = load_dataset(name=\"hsol\", clean_data_basepath='C:/ML/Samsung/OrderBkd/OpenBackdoor/datasets/Toxic/hsol/') \n",
    "target_dataset = load_dataset(name=\"hsol\", clean_data_basepath='C:/ML/Samsung/OrderBkd/OpenBackdoor/datasets/Toxic/hsol/') "
   ]
  },
  {
   "cell_type": "code",
   "execution_count": 3,
   "metadata": {},
   "outputs": [
    {
     "name": "stderr",
     "output_type": "stream",
     "text": [
      "c:\\Users\\AS\\AppData\\Local\\Programs\\Python\\Python310\\lib\\site-packages\\transformers-4.46.3-py3.10.egg\\transformers\\optimization.py:591: FutureWarning: This implementation of AdamW is deprecated and will be removed in a future version. Use the PyTorch implementation torch.optim.AdamW instead, or set `no_deprecation_warning=True` to disable this warning\n",
      "  warnings.warn(\n",
      "[\u001b[032m2024-12-05 10:24:46,922\u001b[0m INFO] trainer ***** Training *****\n",
      "[\u001b[032m2024-12-05 10:24:46,922\u001b[0m INFO] trainer   Num Epochs = 4\n",
      "[\u001b[032m2024-12-05 10:24:46,923\u001b[0m INFO] trainer   Instantaneous batch size per GPU = 4\n",
      "[\u001b[032m2024-12-05 10:24:46,923\u001b[0m INFO] trainer   Gradient Accumulation steps = 1\n",
      "[\u001b[032m2024-12-05 10:24:46,924\u001b[0m INFO] trainer   Total optimization steps = 5824\n",
      "Iteration: 100%|██████████| 1456/1456 [21:55<00:00,  1.11it/s]\n",
      "[\u001b[032m2024-12-05 10:46:42,052\u001b[0m INFO] trainer Epoch: 1, avg loss: 0.43319964179705833\n",
      "[\u001b[032m2024-12-05 10:46:42,057\u001b[0m INFO] eval ***** Running evaluation on dev-clean *****\n",
      "Evaluating: 100%|██████████| 622/622 [00:12<00:00, 49.83it/s]\n",
      "[\u001b[032m2024-12-05 10:46:54,543\u001b[0m INFO] eval   Num examples = 2485\n",
      "[\u001b[032m2024-12-05 10:46:54,584\u001b[0m INFO] eval   accuracy on dev-clean: 0.9496981891348089\n",
      "[\u001b[032m2024-12-05 10:46:54,584\u001b[0m INFO] eval ***** Running evaluation on dev-poison *****\n",
      "Evaluating: 100%|██████████| 311/311 [00:06<00:00, 47.70it/s]\n",
      "[\u001b[032m2024-12-05 10:47:01,106\u001b[0m INFO] eval   Num examples = 1242\n",
      "[\u001b[032m2024-12-05 10:47:01,108\u001b[0m INFO] eval   accuracy on dev-poison: 0.9388083735909822\n",
      "Iteration: 100%|██████████| 1456/1456 [22:01<00:00,  1.10it/s]\n",
      "[\u001b[032m2024-12-05 11:09:03,616\u001b[0m INFO] trainer Epoch: 2, avg loss: 0.22697371431062852\n",
      "[\u001b[032m2024-12-05 11:09:03,616\u001b[0m INFO] eval ***** Running evaluation on dev-clean *****\n",
      "Evaluating: 100%|██████████| 622/622 [00:12<00:00, 51.51it/s]\n",
      "[\u001b[032m2024-12-05 11:09:15,694\u001b[0m INFO] eval   Num examples = 2485\n",
      "[\u001b[032m2024-12-05 11:09:15,696\u001b[0m INFO] eval   accuracy on dev-clean: 0.9440643863179075\n",
      "[\u001b[032m2024-12-05 11:09:15,697\u001b[0m INFO] eval ***** Running evaluation on dev-poison *****\n",
      "Evaluating: 100%|██████████| 311/311 [00:06<00:00, 47.99it/s]\n",
      "[\u001b[032m2024-12-05 11:09:22,181\u001b[0m INFO] eval   Num examples = 1242\n",
      "[\u001b[032m2024-12-05 11:09:22,182\u001b[0m INFO] eval   accuracy on dev-poison: 0.9162640901771336\n",
      "Iteration: 100%|██████████| 1456/1456 [21:29<00:00,  1.13it/s]\n",
      "[\u001b[032m2024-12-05 11:30:51,591\u001b[0m INFO] trainer Epoch: 3, avg loss: 0.1857256299546142\n",
      "[\u001b[032m2024-12-05 11:30:51,592\u001b[0m INFO] eval ***** Running evaluation on dev-clean *****\n",
      "Evaluating: 100%|██████████| 622/622 [00:12<00:00, 48.87it/s]\n",
      "[\u001b[032m2024-12-05 11:31:04,323\u001b[0m INFO] eval   Num examples = 2485\n",
      "[\u001b[032m2024-12-05 11:31:04,325\u001b[0m INFO] eval   accuracy on dev-clean: 0.9380281690140845\n",
      "[\u001b[032m2024-12-05 11:31:04,325\u001b[0m INFO] eval ***** Running evaluation on dev-poison *****\n",
      "Evaluating: 100%|██████████| 311/311 [00:06<00:00, 49.46it/s]\n",
      "[\u001b[032m2024-12-05 11:31:10,618\u001b[0m INFO] eval   Num examples = 1242\n",
      "[\u001b[032m2024-12-05 11:31:10,619\u001b[0m INFO] eval   accuracy on dev-poison: 0.9178743961352657\n",
      "Iteration: 100%|██████████| 1456/1456 [21:11<00:00,  1.15it/s]\n",
      "[\u001b[032m2024-12-05 11:52:22,184\u001b[0m INFO] trainer Epoch: 4, avg loss: 0.11439589117043607\n",
      "[\u001b[032m2024-12-05 11:52:22,185\u001b[0m INFO] eval ***** Running evaluation on dev-clean *****\n",
      "Evaluating: 100%|██████████| 622/622 [00:12<00:00, 51.55it/s]\n",
      "[\u001b[032m2024-12-05 11:52:34,252\u001b[0m INFO] eval   Num examples = 2485\n",
      "[\u001b[032m2024-12-05 11:52:34,255\u001b[0m INFO] eval   accuracy on dev-clean: 0.9480885311871228\n",
      "[\u001b[032m2024-12-05 11:52:34,255\u001b[0m INFO] eval ***** Running evaluation on dev-poison *****\n",
      "Evaluating: 100%|██████████| 311/311 [00:06<00:00, 46.31it/s]\n",
      "[\u001b[032m2024-12-05 11:52:40,973\u001b[0m INFO] eval   Num examples = 1242\n",
      "[\u001b[032m2024-12-05 11:52:40,975\u001b[0m INFO] eval   accuracy on dev-poison: 0.9186795491143317\n",
      "[\u001b[032m2024-12-05 11:52:40,976\u001b[0m INFO] trainer Training finished.\n",
      "c:\\ML\\Samsung\\OrderBkd\\OpenBackdoor\\openbackdoor\\trainers\\trainer.py:222: FutureWarning: You are using `torch.load` with `weights_only=False` (the current default value), which uses the default pickle module implicitly. It is possible to construct malicious pickle data which will execute arbitrary code during unpickling (See https://github.com/pytorch/pytorch/blob/main/SECURITY.md#untrusted-models for more details). In a future release, the default value for `weights_only` will be flipped to `True`. This limits the functions that could be executed during unpickling. Arbitrary objects will no longer be allowed to be loaded via this mode unless they are explicitly allowlisted by the user via `torch.serialization.add_safe_globals`. We recommend you start setting `weights_only=True` for any use case where you don't have full control of the loaded file. Please open an issue on GitHub for any issues related to this experimental feature.\n",
      "  state_dict = torch.load(self.model_checkpoint(self.ckpt))\n"
     ]
    }
   ],
   "source": [
    "# launch attacks \n",
    "victim = attacker.attack(victim, poison_dataset)"
   ]
  },
  {
   "cell_type": "code",
   "execution_count": null,
   "metadata": {},
   "outputs": [
    {
     "name": "stderr",
     "output_type": "stream",
     "text": [
      "[\u001b[032m2024-12-05 11:53:53,046\u001b[0m INFO] eval ***** Running evaluation on test-clean *****\n",
      "Evaluating: 100%|██████████| 622/622 [00:13<00:00, 46.82it/s]\n",
      "[\u001b[032m2024-12-05 11:54:06,335\u001b[0m INFO] eval   Num examples = 2485\n",
      "[\u001b[032m2024-12-05 11:54:06,338\u001b[0m INFO] eval   accuracy on test-clean: 0.9496981891348089\n",
      "[\u001b[032m2024-12-05 11:54:06,338\u001b[0m INFO] eval ***** Running evaluation on test-poison *****\n",
      "Evaluating: 100%|██████████| 311/311 [00:06<00:00, 49.59it/s]\n",
      "[\u001b[032m2024-12-05 11:54:12,611\u001b[0m INFO] eval   Num examples = 1242\n",
      "[\u001b[032m2024-12-05 11:54:12,614\u001b[0m INFO] eval   accuracy on test-poison: 0.9388083735909822\n"
     ]
    },
    {
     "data": {
      "text/plain": [
       "{'test-clean': {'accuracy': 0.9496981891348089},\n",
       " 'test-poison': {'accuracy': 0.9388083735909822},\n",
       " 'ppl': nan,\n",
       " 'grammar': nan,\n",
       " 'use': nan}"
      ]
     },
     "execution_count": 4,
     "metadata": {},
     "output_type": "execute_result"
    }
   ],
   "source": [
    "# evaluate attack results\n",
    "attacker.eval(victim, target_dataset)"
   ]
  },
  {
   "cell_type": "code",
   "execution_count": null,
   "metadata": {},
   "outputs": [
    {
     "name": "stderr",
     "output_type": "stream",
     "text": [
      "c:\\Users\\AS\\AppData\\Local\\Programs\\Python\\Python310\\lib\\site-packages\\transformers-4.46.3-py3.10.egg\\transformers\\optimization.py:591: FutureWarning: This implementation of AdamW is deprecated and will be removed in a future version. Use the PyTorch implementation torch.optim.AdamW instead, or set `no_deprecation_warning=True` to disable this warning\n",
      "  warnings.warn(\n",
      "[\u001b[032m2024-12-05 12:28:33,674\u001b[0m INFO] trainer ***** Training *****\n",
      "[\u001b[032m2024-12-05 12:28:33,675\u001b[0m INFO] trainer   Num Epochs = 4\n",
      "[\u001b[032m2024-12-05 12:28:33,676\u001b[0m INFO] trainer   Instantaneous batch size per GPU = 4\n",
      "[\u001b[032m2024-12-05 12:28:33,676\u001b[0m INFO] trainer   Gradient Accumulation steps = 1\n",
      "[\u001b[032m2024-12-05 12:28:33,676\u001b[0m INFO] trainer   Total optimization steps = 5824\n",
      "Iteration: 100%|██████████| 1456/1456 [22:03<00:00,  1.10it/s]\n",
      "[\u001b[032m2024-12-05 12:50:37,052\u001b[0m INFO] trainer Epoch: 1, avg loss: 0.4383400546831071\n",
      "[\u001b[032m2024-12-05 12:50:37,062\u001b[0m INFO] eval ***** Running evaluation on dev-clean *****\n",
      "Evaluating: 100%|██████████| 622/622 [00:10<00:00, 62.14it/s]\n",
      "[\u001b[032m2024-12-05 12:50:47,083\u001b[0m INFO] eval   Num examples = 2485\n",
      "[\u001b[032m2024-12-05 12:50:47,136\u001b[0m INFO] eval   accuracy on dev-clean: 0.9476861167002012\n",
      "[\u001b[032m2024-12-05 12:50:47,136\u001b[0m INFO] eval ***** Running evaluation on dev-poison *****\n",
      "Evaluating: 100%|██████████| 311/311 [00:05<00:00, 60.04it/s]\n",
      "[\u001b[032m2024-12-05 12:50:52,320\u001b[0m INFO] eval   Num examples = 1242\n",
      "[\u001b[032m2024-12-05 12:50:52,322\u001b[0m INFO] eval   accuracy on dev-poison: 0.9436392914653784\n",
      "Iteration: 100%|██████████| 1456/1456 [21:49<00:00,  1.11it/s]\n",
      "[\u001b[032m2024-12-05 13:12:42,325\u001b[0m INFO] trainer Epoch: 2, avg loss: 0.23870898393119666\n",
      "[\u001b[032m2024-12-05 13:12:42,326\u001b[0m INFO] eval ***** Running evaluation on dev-clean *****\n",
      "Evaluating: 100%|██████████| 622/622 [00:09<00:00, 64.17it/s]\n",
      "[\u001b[032m2024-12-05 13:12:52,022\u001b[0m INFO] eval   Num examples = 2485\n",
      "[\u001b[032m2024-12-05 13:12:52,026\u001b[0m INFO] eval   accuracy on dev-clean: 0.9440643863179075\n",
      "[\u001b[032m2024-12-05 13:12:52,027\u001b[0m INFO] eval ***** Running evaluation on dev-poison *****\n",
      "Evaluating: 100%|██████████| 311/311 [00:05<00:00, 61.08it/s]\n",
      "[\u001b[032m2024-12-05 13:12:57,122\u001b[0m INFO] eval   Num examples = 1242\n",
      "[\u001b[032m2024-12-05 13:12:57,125\u001b[0m INFO] eval   accuracy on dev-poison: 0.9243156199677939\n",
      "Iteration: 100%|██████████| 1456/1456 [21:20<00:00,  1.14it/s]\n",
      "[\u001b[032m2024-12-05 13:34:17,536\u001b[0m INFO] trainer Epoch: 3, avg loss: 0.20958717492972578\n",
      "[\u001b[032m2024-12-05 13:34:17,537\u001b[0m INFO] eval ***** Running evaluation on dev-clean *****\n",
      "Evaluating: 100%|██████████| 622/622 [00:09<00:00, 64.19it/s]\n",
      "[\u001b[032m2024-12-05 13:34:27,228\u001b[0m INFO] eval   Num examples = 2485\n",
      "[\u001b[032m2024-12-05 13:34:27,230\u001b[0m INFO] eval   accuracy on dev-clean: 0.9509054325955735\n",
      "[\u001b[032m2024-12-05 13:34:27,231\u001b[0m INFO] eval ***** Running evaluation on dev-poison *****\n",
      "Evaluating: 100%|██████████| 311/311 [00:05<00:00, 60.85it/s]\n",
      "[\u001b[032m2024-12-05 13:34:32,344\u001b[0m INFO] eval   Num examples = 1242\n",
      "[\u001b[032m2024-12-05 13:34:32,346\u001b[0m INFO] eval   accuracy on dev-poison: 0.9186795491143317\n",
      "Iteration: 100%|██████████| 1456/1456 [21:26<00:00,  1.13it/s]\n",
      "[\u001b[032m2024-12-05 13:55:58,866\u001b[0m INFO] trainer Epoch: 4, avg loss: 0.13820653312185452\n",
      "[\u001b[032m2024-12-05 13:55:58,866\u001b[0m INFO] eval ***** Running evaluation on dev-clean *****\n",
      "Evaluating: 100%|██████████| 622/622 [00:09<00:00, 62.29it/s]\n",
      "[\u001b[032m2024-12-05 13:56:08,855\u001b[0m INFO] eval   Num examples = 2485\n",
      "[\u001b[032m2024-12-05 13:56:08,856\u001b[0m INFO] eval   accuracy on dev-clean: 0.9525150905432596\n",
      "[\u001b[032m2024-12-05 13:56:08,857\u001b[0m INFO] eval ***** Running evaluation on dev-poison *****\n",
      "Evaluating: 100%|██████████| 311/311 [00:04<00:00, 63.74it/s]\n",
      "[\u001b[032m2024-12-05 13:56:13,738\u001b[0m INFO] eval   Num examples = 1242\n",
      "[\u001b[032m2024-12-05 13:56:13,740\u001b[0m INFO] eval   accuracy on dev-poison: 0.9227053140096618\n",
      "[\u001b[032m2024-12-05 13:56:13,741\u001b[0m INFO] trainer Training finished.\n",
      "c:\\ML\\Samsung\\OrderBkd\\OpenBackdoor\\openbackdoor\\trainers\\trainer.py:222: FutureWarning: You are using `torch.load` with `weights_only=False` (the current default value), which uses the default pickle module implicitly. It is possible to construct malicious pickle data which will execute arbitrary code during unpickling (See https://github.com/pytorch/pytorch/blob/main/SECURITY.md#untrusted-models for more details). In a future release, the default value for `weights_only` will be flipped to `True`. This limits the functions that could be executed during unpickling. Arbitrary objects will no longer be allowed to be loaded via this mode unless they are explicitly allowlisted by the user via `torch.serialization.add_safe_globals`. We recommend you start setting `weights_only=True` for any use case where you don't have full control of the loaded file. Please open an issue on GitHub for any issues related to this experimental feature.\n",
      "  state_dict = torch.load(self.model_checkpoint(self.ckpt))\n"
     ]
    }
   ],
   "source": [
    "# template for STRIP defender work\n",
    "STRIP_defender = load_defender({'name': 'strip'})\n",
    "victim2 = attacker.attack(victim, poison_dataset, STRIP_defender) "
   ]
  },
  {
   "cell_type": "code",
   "execution_count": 4,
   "metadata": {},
   "outputs": [
    {
     "name": "stderr",
     "output_type": "stream",
     "text": [
      "[\u001b[032m2024-12-05 14:00:51,578\u001b[0m INFO] strip_defender Use 2485 clean dev data, 3727 poisoned test data in total\n",
      "[\u001b[032m2024-12-05 14:00:51,949\u001b[0m INFO] strip_defender There are 12425 perturbed sentences, example: (\"yyyyyeelllloooowwwwww yungin palmers just yrs into my hotel room. I'd charlie ze gangbanged by yu Mandingos for 2 restaurant straight than yuhhh favorite dc\", 1, 0)\n",
      "[\u001b[032m2024-12-05 14:01:55,816\u001b[0m INFO] strip_defender There are 18635 perturbed sentences, example: (\"Idiotic censorship drive tonight France game jeter to understand that he's empowering Jihadis by hope deser internet doesn fail\", 0, 0)\n",
      "[\u001b[032m2024-12-05 14:03:34,069\u001b[0m INFO] strip_defender Constrain FRR to 0.01, threshold = 0.017988830194535822\n",
      "[\u001b[032m2024-12-05 14:03:34,074\u001b[0m INFO] metrics Evaluating poison data detection: 41 poison samples, 3686 clean samples\n",
      "[\u001b[032m2024-12-05 14:03:34,123\u001b[0m INFO] metrics [[3683    3]\n",
      " [  41    0]]\n",
      "[\u001b[032m2024-12-05 14:03:34,128\u001b[0m INFO] eval FRR on test-detect: 0.0008138903960933261\n",
      "[\u001b[032m2024-12-05 14:03:34,128\u001b[0m INFO] metrics Evaluating poison data detection: 41 poison samples, 3686 clean samples\n",
      "[\u001b[032m2024-12-05 14:03:34,130\u001b[0m INFO] metrics [[3683    3]\n",
      " [  41    0]]\n",
      "[\u001b[032m2024-12-05 14:03:34,131\u001b[0m INFO] eval FAR on test-detect: 1.0\n",
      "[\u001b[032m2024-12-05 14:03:34,135\u001b[0m INFO] eval ***** Running evaluation on test-clean *****\n",
      "Evaluating: 100%|██████████| 622/622 [00:10<00:00, 60.33it/s]\n",
      "[\u001b[032m2024-12-05 14:03:44,454\u001b[0m INFO] eval   Num examples = 2485\n",
      "[\u001b[032m2024-12-05 14:03:44,457\u001b[0m INFO] eval   accuracy on test-clean: 0.9468812877263582\n",
      "[\u001b[032m2024-12-05 14:03:44,457\u001b[0m INFO] eval ***** Running evaluation on test-poison *****\n",
      "Evaluating: 100%|██████████| 311/311 [00:05<00:00, 56.26it/s]\n",
      "[\u001b[032m2024-12-05 14:03:49,988\u001b[0m INFO] eval   Num examples = 1242\n",
      "[\u001b[032m2024-12-05 14:03:49,990\u001b[0m INFO] eval   accuracy on test-poison: 0.9404186795491143\n"
     ]
    },
    {
     "data": {
      "text/plain": [
       "{'test-clean': {'accuracy': 0.9468812877263582},\n",
       " 'test-poison': {'accuracy': 0.9404186795491143},\n",
       " 'ppl': nan,\n",
       " 'grammar': nan,\n",
       " 'use': nan}"
      ]
     },
     "execution_count": 4,
     "metadata": {},
     "output_type": "execute_result"
    }
   ],
   "source": [
    "# evaluate defence results\n",
    "attacker.eval(victim2, target_dataset, STRIP_defender)"
   ]
  },
  {
   "cell_type": "code",
   "execution_count": null,
   "metadata": {},
   "outputs": [],
   "source": [
    "# template for RAP defender work\n",
    "RAP_defender = load_defender({'name': 'rap'})\n",
    "victim3 = attacker.attack(victim, poison_dataset, RAP_defender) "
   ]
  },
  {
   "cell_type": "code",
   "execution_count": null,
   "metadata": {},
   "outputs": [],
   "source": [
    "# evaluate defence results\n",
    "attacker.eval(victim3, target_dataset, RAP_defender)"
   ]
  }
 ],
 "metadata": {
  "kernelspec": {
   "display_name": "Python 3",
   "language": "python",
   "name": "python3"
  },
  "language_info": {
   "codemirror_mode": {
    "name": "ipython",
    "version": 3
   },
   "file_extension": ".py",
   "mimetype": "text/x-python",
   "name": "python",
   "nbconvert_exporter": "python",
   "pygments_lexer": "ipython3",
   "version": "3.10.11"
  }
 },
 "nbformat": 4,
 "nbformat_minor": 2
}
