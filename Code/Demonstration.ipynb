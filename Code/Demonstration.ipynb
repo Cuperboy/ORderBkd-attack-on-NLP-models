{
 "cells": [
  {
   "cell_type": "code",
   "execution_count": null,
   "metadata": {},
   "outputs": [
    {
     "name": "stderr",
     "output_type": "stream",
     "text": [
      "c:\\Users\\AS\\AppData\\Local\\Programs\\Python\\Python310\\lib\\site-packages\\tqdm-4.67.1-py3.10.egg\\tqdm\\auto.py:21: TqdmWarning: IProgress not found. Please update jupyter and ipywidgets. See https://ipywidgets.readthedocs.io/en/stable/user_install.html\n",
      "  from .autonotebook import tqdm as notebook_tqdm\n",
      "[\u001b[032m2024-12-05 12:25:44,047\u001b[0m INFO] config PyTorch version 2.5.1+cu118 available.\n",
      "[nltk_data] Downloading package wordnet to\n",
      "[nltk_data]     C:\\Users\\AS\\AppData\\Roaming\\nltk_data...\n",
      "[nltk_data]   Package wordnet is already up-to-date!\n",
      "[nltk_data] Downloading package averaged_perceptron_tagger_eng to\n",
      "[nltk_data]     C:\\Users\\AS\\AppData\\Roaming\\nltk_data...\n",
      "[nltk_data]   Package averaged_perceptron_tagger_eng is already up-to-\n",
      "[nltk_data]       date!\n"
     ]
    }
   ],
   "source": [
    "import openbackdoor as ob \n",
    "from openbackdoor import load_dataset\n",
    "from openbackdoor.attackers.OrderBkd_attacker import OrderBkdAttacker\n",
    "from openbackdoor.defenders import load_defender\n",
    "from openbackdoor.utils.visualize import display_results\n",
    "\n",
    "import os\n",
    "import nltk\n",
    "nltk.download('wordnet')\n",
    "nltk.download('averaged_perceptron_tagger_eng')\n",
    "\n",
    "# setup JAVAHOME\n",
    "java_path = \"C:/Program Files/Java/jre1.8.0_431/bin/java.exe\" #path to java.exe\n",
    "os.environ['JAVAHOME'] = java_path"
   ]
  },
  {
   "cell_type": "code",
   "execution_count": null,
   "metadata": {},
   "outputs": [
    {
     "name": "stderr",
     "output_type": "stream",
     "text": [
      "Some weights of BertForSequenceClassification were not initialized from the model checkpoint at bert-base-uncased and are newly initialized: ['classifier.bias', 'classifier.weight']\n",
      "You should probably TRAIN this model on a down-stream task to be able to use it for predictions and inference.\n"
     ]
    },
    {
     "name": "stdout",
     "output_type": "stream",
     "text": [
      "{}\n"
     ]
    },
    {
     "name": "stderr",
     "output_type": "stream",
     "text": [
      "[\u001b[032m2024-12-05 12:26:05,655\u001b[0m INFO] core Checking for updates to resources.json in case models have been updated.  Note: this behavior can be turned off with download_method=None or download_method=DownloadMethod.REUSE_RESOURCES\n",
      "Downloading https://raw.githubusercontent.com/stanfordnlp/stanza-resources/main/resources_1.9.0.json: 392kB [00:00, 97.8MB/s]                    \n",
      "[\u001b[032m2024-12-05 12:26:06,050\u001b[0m INFO] common Downloaded file to C:\\Users\\AS\\stanza_resources\\resources.json\n",
      "[\u001b[032m2024-12-05 12:26:06,486\u001b[0m INFO] core Loading these models for language: en (English):\n",
      "===============================\n",
      "| Processor | Package         |\n",
      "-------------------------------\n",
      "| tokenize  | combined        |\n",
      "| mwt       | combined        |\n",
      "| pos       | combined_charlm |\n",
      "===============================\n",
      "\n",
      "[\u001b[032m2024-12-05 12:26:06,487\u001b[0m INFO] core Using device: cuda\n",
      "[\u001b[032m2024-12-05 12:26:06,488\u001b[0m INFO] core Loading: tokenize\n",
      "c:\\Users\\AS\\AppData\\Local\\Programs\\Python\\Python310\\lib\\site-packages\\stanza\\models\\tokenization\\trainer.py:82: FutureWarning: You are using `torch.load` with `weights_only=False` (the current default value), which uses the default pickle module implicitly. It is possible to construct malicious pickle data which will execute arbitrary code during unpickling (See https://github.com/pytorch/pytorch/blob/main/SECURITY.md#untrusted-models for more details). In a future release, the default value for `weights_only` will be flipped to `True`. This limits the functions that could be executed during unpickling. Arbitrary objects will no longer be allowed to be loaded via this mode unless they are explicitly allowlisted by the user via `torch.serialization.add_safe_globals`. We recommend you start setting `weights_only=True` for any use case where you don't have full control of the loaded file. Please open an issue on GitHub for any issues related to this experimental feature.\n",
      "  checkpoint = torch.load(filename, lambda storage, loc: storage)\n",
      "[\u001b[032m2024-12-05 12:26:06,716\u001b[0m INFO] core Loading: mwt\n",
      "c:\\Users\\AS\\AppData\\Local\\Programs\\Python\\Python310\\lib\\site-packages\\stanza\\models\\mwt\\trainer.py:201: FutureWarning: You are using `torch.load` with `weights_only=False` (the current default value), which uses the default pickle module implicitly. It is possible to construct malicious pickle data which will execute arbitrary code during unpickling (See https://github.com/pytorch/pytorch/blob/main/SECURITY.md#untrusted-models for more details). In a future release, the default value for `weights_only` will be flipped to `True`. This limits the functions that could be executed during unpickling. Arbitrary objects will no longer be allowed to be loaded via this mode unless they are explicitly allowlisted by the user via `torch.serialization.add_safe_globals`. We recommend you start setting `weights_only=True` for any use case where you don't have full control of the loaded file. Please open an issue on GitHub for any issues related to this experimental feature.\n",
      "  checkpoint = torch.load(filename, lambda storage, loc: storage)\n",
      "[\u001b[032m2024-12-05 12:26:06,727\u001b[0m INFO] core Loading: pos\n",
      "c:\\Users\\AS\\AppData\\Local\\Programs\\Python\\Python310\\lib\\site-packages\\stanza\\models\\pos\\trainer.py:139: FutureWarning: You are using `torch.load` with `weights_only=False` (the current default value), which uses the default pickle module implicitly. It is possible to construct malicious pickle data which will execute arbitrary code during unpickling (See https://github.com/pytorch/pytorch/blob/main/SECURITY.md#untrusted-models for more details). In a future release, the default value for `weights_only` will be flipped to `True`. This limits the functions that could be executed during unpickling. Arbitrary objects will no longer be allowed to be loaded via this mode unless they are explicitly allowlisted by the user via `torch.serialization.add_safe_globals`. We recommend you start setting `weights_only=True` for any use case where you don't have full control of the loaded file. Please open an issue on GitHub for any issues related to this experimental feature.\n",
      "  checkpoint = torch.load(filename, lambda storage, loc: storage)\n",
      "c:\\Users\\AS\\AppData\\Local\\Programs\\Python\\Python310\\lib\\site-packages\\stanza\\models\\common\\pretrain.py:56: FutureWarning: You are using `torch.load` with `weights_only=False` (the current default value), which uses the default pickle module implicitly. It is possible to construct malicious pickle data which will execute arbitrary code during unpickling (See https://github.com/pytorch/pytorch/blob/main/SECURITY.md#untrusted-models for more details). In a future release, the default value for `weights_only` will be flipped to `True`. This limits the functions that could be executed during unpickling. Arbitrary objects will no longer be allowed to be loaded via this mode unless they are explicitly allowlisted by the user via `torch.serialization.add_safe_globals`. We recommend you start setting `weights_only=True` for any use case where you don't have full control of the loaded file. Please open an issue on GitHub for any issues related to this experimental feature.\n",
      "  data = torch.load(self.filename, lambda storage, loc: storage)\n",
      "c:\\Users\\AS\\AppData\\Local\\Programs\\Python\\Python310\\lib\\site-packages\\stanza\\models\\common\\char_model.py:271: FutureWarning: You are using `torch.load` with `weights_only=False` (the current default value), which uses the default pickle module implicitly. It is possible to construct malicious pickle data which will execute arbitrary code during unpickling (See https://github.com/pytorch/pytorch/blob/main/SECURITY.md#untrusted-models for more details). In a future release, the default value for `weights_only` will be flipped to `True`. This limits the functions that could be executed during unpickling. Arbitrary objects will no longer be allowed to be loaded via this mode unless they are explicitly allowlisted by the user via `torch.serialization.add_safe_globals`. We recommend you start setting `weights_only=True` for any use case where you don't have full control of the loaded file. Please open an issue on GitHub for any issues related to this experimental feature.\n",
      "  state = torch.load(filename, lambda storage, loc: storage)\n",
      "[\u001b[032m2024-12-05 12:26:07,257\u001b[0m INFO] core Done loading processors!\n",
      "[\u001b[032m2024-12-05 12:26:07,258\u001b[0m INFO] OrderBkd_poisoner Initializing OrderBkd poisoner\n",
      "[\u001b[032m2024-12-05 12:26:07,346\u001b[0m INFO] __init__ hsol dataset loaded, train: 5823, dev: 2485, test: 2485\n",
      "[\u001b[032m2024-12-05 12:26:07,371\u001b[0m INFO] __init__ hsol dataset loaded, train: 5823, dev: 2485, test: 2485\n"
     ]
    }
   ],
   "source": [
    "# choose BERT as victim model \n",
    "victim = ob.PLMVictim(model=\"bert\", path=\"bert-base-uncased\")\n",
    "# choose OrderBkd attacker\n",
    "attacker = OrderBkdAttacker(sample_metrics=['ppl', 'grammar', 'use'])\n",
    "# choose HSOL as the poison and target data  \n",
    "poison_dataset = load_dataset(name=\"hsol\", clean_data_basepath='C:/ML/Samsung/OrderBkd/OpenBackdoor/datasets/Toxic/hsol/') \n",
    "target_dataset = load_dataset(name=\"hsol\", clean_data_basepath='C:/ML/Samsung/OrderBkd/OpenBackdoor/datasets/Toxic/hsol/') "
   ]
  },
  {
   "cell_type": "code",
   "execution_count": null,
   "metadata": {},
   "outputs": [],
   "source": [
    "# launch attacks \n",
    "victim = attacker.attack(victim, poison_dataset)"
   ]
  },
  {
   "cell_type": "code",
   "execution_count": null,
   "metadata": {},
   "outputs": [],
   "source": [
    "# evaluate attack results\n",
    "attacker.eval(victim, target_dataset)"
   ]
  },
  {
   "cell_type": "code",
   "execution_count": null,
   "metadata": {},
   "outputs": [],
   "source": [
    "# template for STRIP defender work\n",
    "STRIP_defender = load_defender({'name': 'strip'})\n",
    "victim2 = attacker.attack(victim, poison_dataset, STRIP_defender) "
   ]
  },
  {
   "cell_type": "code",
   "execution_count": null,
   "metadata": {},
   "outputs": [],
   "source": [
    "# evaluate defence results\n",
    "attacker.eval(victim2, target_dataset, STRIP_defender)"
   ]
  },
  {
   "cell_type": "code",
   "execution_count": null,
   "metadata": {},
   "outputs": [],
   "source": [
    "# template for RAP defender work\n",
    "RAP_defender = load_defender({'name': 'rap'})\n",
    "victim3 = attacker.attack(victim, poison_dataset, RAP_defender) "
   ]
  },
  {
   "cell_type": "code",
   "execution_count": null,
   "metadata": {},
   "outputs": [],
   "source": [
    "# evaluate defence results\n",
    "attacker.eval(victim3, target_dataset, RAP_defender)"
   ]
  }
 ],
 "metadata": {
  "kernelspec": {
   "display_name": "Python 3",
   "language": "python",
   "name": "python3"
  },
  "language_info": {
   "codemirror_mode": {
    "name": "ipython",
    "version": 3
   },
   "file_extension": ".py",
   "mimetype": "text/x-python",
   "name": "python",
   "nbconvert_exporter": "python",
   "pygments_lexer": "ipython3",
   "version": "3.10.11"
  }
 },
 "nbformat": 4,
 "nbformat_minor": 2
}
